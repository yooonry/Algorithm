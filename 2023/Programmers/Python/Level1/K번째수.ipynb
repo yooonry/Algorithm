{
 "cells": [
  {
   "cell_type": "markdown",
   "metadata": {},
   "source": [
    "### K번째 수\n",
    "- Level 1 Programmers\n",
    "- 배열 array의 i번째 숫자부터 j번째 숫자까지 자르고 정렬했을 때, k번째에 있는 수\n",
    "- 배열 array, [i, j, k]를 원소로 가진 2차원 배열 commands가 매개변수로 주어질 때, commands의 모든 원소에 대해 앞서 설명한 연산을 적용했을 때 나온 결과를 배열에 담아 return 하도록 solution 함수를 작성\n",
    "[K번째 수](https://school.programmers.co.kr/learn/courses/30/lessons/42748)"
   ]
  },
  {
   "cell_type": "code",
   "execution_count": null,
   "metadata": {},
   "outputs": [],
   "source": [
    "def solution(array, commands):\n",
    "    answer = []\n",
    "    result=[]\n",
    "    for i in range(len(commands)):\n",
    "        answer=array[commands[i][0]-1:commands[i][1]]\n",
    "        answer.sort()\n",
    "        result.append(answer[commands[i][2]-1])\n",
    "    \n",
    "    return result"
   ]
  }
 ],
 "metadata": {
  "language_info": {
   "name": "python"
  },
  "orig_nbformat": 4
 },
 "nbformat": 4,
 "nbformat_minor": 2
}

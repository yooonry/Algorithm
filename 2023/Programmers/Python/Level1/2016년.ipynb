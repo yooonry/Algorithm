{
 "cells": [
  {
   "cell_type": "markdown",
   "metadata": {},
   "source": [
    "### [2016년](https://school.programmers.co.kr/learn/courses/30/lessons/12901)\n",
    "- Level 1 Programmers\n",
    "- 2016년 1월 1일은 금요일입니다. 2016년 a월 b일은 무슨 요일일까요? 두 수 a ,b를 입력받아 2016년 a월 b일이 무슨 요일인지 리턴하는 함수, solution을 완성\n",
    "- 2016년은 윤년"
   ]
  },
  {
   "cell_type": "code",
   "execution_count": null,
   "metadata": {},
   "outputs": [],
   "source": [
    "def solution(a, b):\n",
    "    count=0\n",
    "    num=0\n",
    "    day=['THU', 'FRI', 'SAT', 'SUN', 'MON', 'TUE', 'WED']\n",
    "    month=[31, 29, 31, 30, 31, 30, 31, 31, 30, 31, 30, 31]\n",
    "    for i in range(a-1):\n",
    "        count+=month[i]\n",
    "    num=(count+b)%7\n",
    "    return day[num]"
   ]
  }
 ],
 "metadata": {
  "language_info": {
   "name": "python"
  },
  "orig_nbformat": 4
 },
 "nbformat": 4,
 "nbformat_minor": 2
}

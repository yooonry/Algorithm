{
 "cells": [
  {
   "cell_type": "markdown",
   "metadata": {},
   "source": [
    "### 백준 1388번 [바닥 장식](https://www.acmicpc.net/problem/1388)\n",
    "- Silver4\n",
    "- 입력 : 첫째 줄에 방 바닥의 세로 크기N과 가로 크기 M이 주어진다. 둘째 줄부터 N개의 줄에 M개의 문자가 주어진다. 이것은 바닥 장식 모양이고, '-‘와 ’|‘로만 이루어져 있다. N과 M은 50 이하인 자연수이다.\n",
    "- 출력 : 첫째 줄에 문제의 정답을 출력한다. "
   ]
  },
  {
   "cell_type": "code",
   "execution_count": null,
   "metadata": {},
   "outputs": [],
   "source": [
    "import sys\n",
    "\n",
    "def dfs(x, y):\n",
    "    visited[x][y] = True\n",
    "    \n",
    "    if graph[x][y]=='-':\n",
    "        if y+1<m and graph[x][y+1]=='-' and visited[x][y+1]==False:\n",
    "            dfs(x, y+1)\n",
    "\n",
    "    if graph[x][y]=='|':\n",
    "        if x+1<n and graph[x+1][y]=='|' and visited[x+1][y]==False:\n",
    "            dfs(x+1, y)\n",
    "            \n",
    "n, m = map(int, sys.stdin.readline().split())\n",
    "graph = []\n",
    "visited=[[False for _ in range(m)] for _ in range(n)]\n",
    "count = 0\n",
    "\n",
    "for _ in range(n):\n",
    "    graph.append(list(sys.stdin.readline()))\n",
    "    \n",
    "for i in range(n):\n",
    "    for j in range(m):\n",
    "        if visited[i][j]==False:\n",
    "            dfs(i, j)\n",
    "            count+=1\n",
    "\n",
    "print(count)"
   ]
  },
  {
   "cell_type": "markdown",
   "metadata": {},
   "source": [
    "test"
   ]
  }
 ],
 "metadata": {
  "language_info": {
   "name": "python"
  },
  "orig_nbformat": 4
 },
 "nbformat": 4,
 "nbformat_minor": 2
}

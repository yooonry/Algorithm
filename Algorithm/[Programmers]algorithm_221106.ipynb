{
 "cells": [
  {
   "cell_type": "markdown",
   "metadata": {},
   "source": [
    "1. 정수 num이 짝수일 경우 \"Even\"을 반환하고 홀수인 경우 \"Odd\"를 반환하는 함수, solution을 완성\n",
    "\n",
    "    - num은 int 범위의 정수\n",
    "    - 0은 짝수\n",
    "\n",
    "* 입출력 예\n",
    "\n",
    "| num | return |\n",
    "|---|---|\n",
    "| 3 | \"Odd\" |\n",
    "| 4 | \"Even\" |"
   ]
  },
  {
   "cell_type": "code",
   "execution_count": null,
   "metadata": {},
   "outputs": [],
   "source": [
    "def solution(num):\n",
    "    if num%2 == 0:\n",
    "        return \"Even\"\n",
    "        \n",
    "    else:\n",
    "        return \"Odd\""
   ]
  },
  {
   "cell_type": "markdown",
   "metadata": {},
   "source": [
    "2. 정수를 담고 있는 배열 arr의 평균값을 return하는 함수, solution을 완성\n",
    "\n",
    "    * arr은 길이 1 이상, 100 이하인 배열\n",
    "    * arr의 원소는 -10,000 이상 10,000 이하인 정수\n",
    "\n",
    "- 입출력 예\n",
    "\n",
    "| arr | return |\n",
    "|---|---|\n",
    "| [1, 2, 3, 4] | 2.5 |\n",
    "| [5, 5] | 5 |"
   ]
  },
  {
   "cell_type": "code",
   "execution_count": null,
   "metadata": {},
   "outputs": [],
   "source": [
    "def solution(arr):\n",
    "    answer = sum(arr) / len(arr)\n",
    "\n",
    "    return answer"
   ]
  },
  {
   "cell_type": "markdown",
   "metadata": {},
   "source": [
    "3. 수 n을 입력받아 n의 약수를 모두 더한 값을 리턴하는 함수, solution을 완성\n",
    "    * n은 0 이상 3000이하인 정수\n",
    "\n",
    "- 입출력 예\n",
    "\n",
    "| n | return |\n",
    "|---|---|\n",
    "| 12 | 28 |\n",
    "| 5 | 6 |"
   ]
  },
  {
   "cell_type": "code",
   "execution_count": null,
   "metadata": {},
   "outputs": [],
   "source": [
    "def solution(n):\n",
    "    value = 0\n",
    "    i=1\n",
    "    while i <= n:\n",
    "        if n%i==0:\n",
    "            value+=i\n",
    "        i+=1\n",
    "    return value"
   ]
  },
  {
   "cell_type": "markdown",
   "metadata": {},
   "source": [
    "4. 자연수 N이 주어지면, N의 각 자릿수의 합을 구해서 return 하는 solution 함수\n",
    "    * N의 범위 : 100,000,000 이하의 자연수\n",
    "\n",
    "- 입출력 예\n",
    "\n",
    "| n | return |\n",
    "|---|---|\n",
    "| 123 | 6 |\n",
    "| 987 | 24 |\n",
    "***\n",
    "정수형 n을 list형으로 변환 후 list 내의 값의 합계 출력"
   ]
  },
  {
   "cell_type": "code",
   "execution_count": null,
   "metadata": {},
   "outputs": [],
   "source": [
    "def solution(n):\n",
    "    \n",
    "    n_list=list(map(int, str(n)))\n",
    "    answer=sum(n_list)\n",
    "    \n",
    "    return answer"
   ]
  },
  {
   "cell_type": "markdown",
   "metadata": {},
   "source": [
    "5. 자연수 n을 뒤집어 각 자리 숫자를 원소로 가지는 배열 형태로 리턴\n",
    "    * n은 10,000,000,000이하인 자연수\n",
    "\n",
    "- 입출력 예\n",
    "\n",
    "| n | return |\n",
    "|---|---|\n",
    "| 12345 | [5, 4, 3, 2, 1] |\n",
    "\n",
    "***\n",
    "자릿수 구하는 알고리즘 이용하여 정수형을 list형으로 변환한 뒤, reverse함수를 이용해 정렬"
   ]
  },
  {
   "cell_type": "code",
   "execution_count": null,
   "metadata": {},
   "outputs": [],
   "source": [
    "def solution(n):\n",
    "    \n",
    "    answer=list(map(int, str(n)))\n",
    "    answer.reverse()\n",
    "    \n",
    "    return answer"
   ]
  },
  {
   "cell_type": "markdown",
   "metadata": {},
   "source": [
    "6. 임의의 양의 정수 n에 대해, n이 어떤 양의 정수 x의 제곱인지 아닌지 판단. n이 양의 정수 x의 제곱이라면 x+1의 제곱을 리턴하고, n이 양의 정수 x의 제곱이 아니라면 -1을 리턴하는 함수를 완성\n",
    "    * n은 1이상, 50000000000000 이하인 양의 정수\n",
    "\n",
    "- 입출력 예\n",
    "\n",
    "| n | return |\n",
    "|---|---|\n",
    "| 121 | 144 |\n",
    "| 3 | -1 |\n",
    "\n",
    "***\n",
    "math의 제곱근 관련 함수를 불러와 n의 제곱근을 구한 값으로 n을 나눴을 때 나머지가 0이면 그 값은 제곱임을 이용"
   ]
  },
  {
   "cell_type": "code",
   "execution_count": null,
   "metadata": {},
   "outputs": [],
   "source": [
    "import math\n",
    "\n",
    "def solution(n):\n",
    "    \n",
    "    if (n%math.sqrt(n))==0:\n",
    "        return math.pow(math.sqrt(n)+1, 2)\n",
    "    \n",
    "    else:\n",
    "        return -1\n"
   ]
  },
  {
   "cell_type": "markdown",
   "metadata": {},
   "source": [
    "7. 대문자와 소문자가 섞여있는 문자열 s가 주어집니다. s에 'p'의 개수와 'y'의 개수를 비교해 같으면 True, 다르면 False를 return 하는 solution를 완성하세요. 'p', 'y' 모두 하나도 없는 경우는 항상 True를 리턴합니다. 단, 개수를 비교할 때 대문자와 소문자는 구별 X\n",
    "    * 문자열 s의 길이 : 50 이하의 자연수\n",
    "    * 문자열 s는 알파벳으로만 이루어져 있음\n",
    "\n",
    "- 입출력 예\n",
    "\n",
    "| s | return |\n",
    "|---|---|\n",
    "| \"ppoooyY\" | True |\n",
    "| \"PyY\" | False |\n",
    "\n",
    "***\n",
    "lower함수를 이용해 대문자를 모두 소문자로 바꿔 'p'와 'y'의 개수 비교"
   ]
  },
  {
   "cell_type": "code",
   "execution_count": null,
   "metadata": {},
   "outputs": [],
   "source": [
    "def solution(s):\n",
    "\n",
    "    if s.lower().count('p')==s.lower().count('y'):\n",
    "        return True\n",
    "        \n",
    "    else:\n",
    "        return False"
   ]
  },
  {
   "cell_type": "markdown",
   "metadata": {},
   "source": [
    "8. 양의 정수 x가 하샤드 수이려면 x의 자릿수의 합으로 x가 나누어져야 합니다. 예를 들어 18의 자릿수 합은 1+8=9이고, 18은 9로 나누어 떨어지므로 18은 하샤드 수입니다. 자연수 x를 입력받아 x가 하샤드 수인지 아닌지 검사하는 함수, solution을 완성\n",
    "    * x는 1 이상, 10000 이하인 정수\n",
    "\n",
    "- 입출력 예\n",
    "\n",
    "| s | return |\n",
    "|---|---|\n",
    "| 10 | True |\n",
    "| 11 | False |\n",
    "| 12 | True |\n",
    "| 13 | False |\n",
    "\n",
    "***\n",
    "정수형을 list형으로 변환하고 그 값을 모두 합한 값으로 나누어서 하샤드 수인지 판별"
   ]
  },
  {
   "cell_type": "code",
   "execution_count": null,
   "metadata": {},
   "outputs": [],
   "source": [
    "def solution(x):\n",
    "    \n",
    "    x_list=list(map(int, str(x)))\n",
    "    answer=sum(x_list)\n",
    "    \n",
    "    if x%answer==0:\n",
    "        return True\n",
    "    \n",
    "    else:\n",
    "        return False"
   ]
  },
  {
   "cell_type": "markdown",
   "metadata": {},
   "source": [
    "9. 문자열 s를 숫자로 변환한 결과를 반환하는 함수, solution을 완성\n",
    "    * s의 길이는 1 이상 5이하\n",
    "    * s의 맨앞에는 부호(+, -)가 올 수 있음\n",
    "    * s는 부호와 숫자로만 이루어져있음\n",
    "    * s는 \"0\"으로 시작 X\n",
    "\n",
    "- 입출력 예\n",
    "\n",
    "| input | return |\n",
    "|---|---|\n",
    "| \"1234\" | 1234 |\n",
    "| \"-1234\" | -1234 |"
   ]
  },
  {
   "cell_type": "code",
   "execution_count": null,
   "metadata": {},
   "outputs": [],
   "source": [
    "def solution(s):\n",
    "    return int(s)"
   ]
  },
  {
   "cell_type": "markdown",
   "metadata": {},
   "source": [
    "10. 함수 solution은 정수 x와 자연수 n을 입력 받아, x부터 시작해 x씩 증가하는 숫자를 n개 지니는 리스트를 리턴해야 합니다. 다음 제한 조건을 보고, 조건을 만족하는 함수, solution을 완성\n",
    "    * x는 -10000000 이상, 10000000 이하인 정수\n",
    "    * n은 1000 이하인 자연수\n",
    "\n",
    "- 입출력 예\n",
    "\n",
    "| x | n | return |\n",
    "|---|---|---|\n",
    "| 2 | 5 | [2, 4, 6, 8, 10] |\n",
    "| 4 | 3 | [4, 8, 12] |\n",
    "| -4 | 2 | [-4, -8] |"
   ]
  },
  {
   "cell_type": "code",
   "execution_count": null,
   "metadata": {},
   "outputs": [],
   "source": [
    "def solution(x, n):\n",
    "\n",
    "    answer=[]\n",
    "\n",
    "    for i in range(n):\n",
    "        answer.append(x*(i+1))\n",
    "    \n",
    "    return answer"
   ]
  }
 ],
 "metadata": {
  "language_info": {
   "name": "python"
  },
  "orig_nbformat": 4
 },
 "nbformat": 4,
 "nbformat_minor": 2
}

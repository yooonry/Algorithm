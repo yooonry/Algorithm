{
 "cells": [
  {
   "cell_type": "markdown",
   "metadata": {},
   "source": [
    "1. 백준 2750 수 정렬하기  \n",
    "N개의 수가 주어졌을 때, 이를 오름차순으로 정렬하는 프로그램을 작성하시오.  \n",
    "    * 첫째 줄에 수의 개수 N(1 ≤ N ≤ 1,000)이 입력. 둘째 줄부터 N개의 줄에는 수 입력. 이 수는 절댓값이 1,000보다 작거나 같은 정수. 수는 중복되지 않음.\n",
    "    * 첫째 줄부터 N개의 줄에 오름차순으로 정렬한 결과를 한 줄에 하나씩 출력"
   ]
  },
  {
   "cell_type": "code",
   "execution_count": null,
   "metadata": {},
   "outputs": [],
   "source": [
    "a=int(input())\n",
    "x=[]\n",
    "    \n",
    "for i in range(a):\n",
    "    x.append(int(input()))\n",
    "        \n",
    "for i in range(1, len(x)):\n",
    "    for j in range(i, 0, -1):\n",
    "        while(x[j] < x[j-1]):\n",
    "            x[j], x[j-1] = x[j-1], x[j]\n",
    "            \n",
    "for i in range(len(x)):\n",
    "    print(x[i])"
   ]
  },
  {
   "cell_type": "markdown",
   "metadata": {},
   "source": [
    "2. 백준 2587 대표값2  \n",
    "다섯 개의 자연수가 주어질 때 이들의 평균과 중앙값을 구하는 프로그램  \n",
    "    * 첫째 줄부터 다섯 번째 줄까지 한 줄에 하나씩 자연수가 입력. 주어지는 자연수는 100 보다 작은 10의 배수.\n",
    "    * 첫째 줄에는 평균을 출력하고, 둘째 줄에는 중앙값을 출력한다. 평균과 중앙값은 모두 자연수"
   ]
  },
  {
   "cell_type": "code",
   "execution_count": null,
   "metadata": {},
   "outputs": [],
   "source": [
    "def insertionSort(x):\n",
    "    for i in range(1, len(x)):\n",
    "        for j in range(i, 0, -1):\n",
    "            while(x[j] < x[j-1]):\n",
    "                x[j], x[j-1] = x[j-1], x[j]\n",
    "    return x\n",
    "        \n",
    "        \n",
    "x=[]\n",
    "    \n",
    "for i in range(5):\n",
    "    x.append(int(input()))\n",
    "\n",
    "x=insertionSort(x)\n",
    "\n",
    "print(int(sum(x)/len(x)))\n",
    "print(x[len(x)//2])"
   ]
  },
  {
   "cell_type": "markdown",
   "metadata": {},
   "source": [
    "3. 백준 25305 커트라인  \n",
    "2022 연세대학교 미래캠퍼스 슬기로운 코딩생활에 N명의 학생들이 응시했다. 이들 중 점수가 가장 높은 k명은 상을 받을 것이다. 이 때, 상을 받는 커트라인이 몇 점인지 구하라.\n",
    "    * 커트라인; 상을 받는 사람들 중 점수가 가장 가장 낮은 사람의 점수\n",
    "    * 첫째 줄에는 응시자의 수 N과 상을 받는 사람의 수 k가 공백을 사이에 두고 입력\n",
    "    * 둘째 줄에는 각 학생의 점수 x가 공백을 사이에 두고 입력\n",
    "    * 상을 받는 커트라인을 출력"
   ]
  },
  {
   "cell_type": "code",
   "execution_count": null,
   "metadata": {},
   "outputs": [],
   "source": [
    "def insertionSort(x):\n",
    "    for i in range(1, len(x)):\n",
    "        for j in range(i, 0, -1):\n",
    "            while(x[j] > x[j-1]):\n",
    "                x[j], x[j-1] = x[j-1], x[j]\n",
    "    return x\n",
    "        \n",
    "n, k = map(int, input().split())\n",
    "x = list(map(int, input().split()))\n",
    "\n",
    "x = insertionSort(x)\n",
    "print(x[k-1])"
   ]
  }
 ],
 "metadata": {
  "kernelspec": {
   "display_name": "Python 3.8.9 64-bit",
   "language": "python",
   "name": "python3"
  },
  "language_info": {
   "name": "python",
   "version": "3.8.9"
  },
  "orig_nbformat": 4,
  "vscode": {
   "interpreter": {
    "hash": "aee8b7b246df8f9039afb4144a1f6fd8d2ca17a180786b69acc140d282b71a49"
   }
  }
 },
 "nbformat": 4,
 "nbformat_minor": 2
}

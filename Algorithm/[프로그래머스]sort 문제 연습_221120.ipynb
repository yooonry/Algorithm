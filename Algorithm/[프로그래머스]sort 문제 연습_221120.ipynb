{
 "cells": [
  {
   "cell_type": "markdown",
   "metadata": {},
   "source": [
    "# 이전에 풀었던 프로그래머스 문제 중 sort, sorted 없이 문제 풀이 ([프로그래머스]algorithm_221113 中)\n",
    "---"
   ]
  },
  {
   "cell_type": "markdown",
   "metadata": {},
   "source": [
    "1. 정수 내림차순으로 배치하기  \n",
    "함수 solution은 정수 n을 매개변수로 입력받습니다. n의 각 자릿수를 큰것부터 작은 순으로 정렬한 새로운 정수를 리턴\n",
    "    * n은 1이상 8000000000 이하인 자연수"
   ]
  },
  {
   "cell_type": "code",
   "execution_count": null,
   "metadata": {},
   "outputs": [],
   "source": [
    "#삽입 정렬\n",
    "def insertionSort(x):\n",
    "    for i in range(1, len(x)):\n",
    "        for j in range(i, 0, -1):\n",
    "            while(x[j] > x[j-1]):\n",
    "                x[j], x[j-1] = x[j-1], x[j]\n",
    "    return x\n",
    "\n",
    "def solution(n):\n",
    "    listN=list(str(int(n)))\n",
    "    listN=insertionSort(listN)\n",
    "    return int(\"\".join(listN))"
   ]
  },
  {
   "cell_type": "markdown",
   "metadata": {},
   "source": [
    "14. 문자열 내림차순으로 배치  \n",
    "문자열 s에 나타나는 문자를 큰것부터 작은 순으로 정렬해 새로운 문자열을 리턴하는 함수, solution을 완성해주세요.\n",
    "s는 영문 대소문자로만 구성되어 있으며, 대문자는 소문자보다 작은 것으로 간주"
   ]
  },
  {
   "cell_type": "code",
   "execution_count": null,
   "metadata": {},
   "outputs": [],
   "source": [
    "#삽입 정렬\n",
    "def insertionSort(x):\n",
    "    for i in range(1, len(x)):\n",
    "        for j in range(i, 0, -1):\n",
    "            while(x[j] > x[j-1]):\n",
    "                x[j], x[j-1] = x[j-1], x[j]\n",
    "    return x\n",
    "\n",
    "def solution(s):\n",
    "    answer=list(s)\n",
    "    answer=insertionSort(answer)\n",
    "    return ''.join(answer)"
   ]
  },
  {
   "cell_type": "markdown",
   "metadata": {},
   "source": [
    "23. 최솟값 만들기  \n",
    "길이가 같은 배열 A, B 두개가 있습니다. 각 배열은 자연수로 이루어져 있습니다. \n",
    "배열 A, B에서 각각 한 개의 숫자를 뽑아 두 수를 곱합니다. 이러한 과정을 배열의 길이만큼 반복하며, 두 수를 곱한 값을 누적하여 더합니다. 이때 최종적으로 누적된 값이 최소가 되도록 만드는 것이 목표입니다. (단, 각 배열에서 k번째 숫자를 뽑았다면 다음에 k번째 숫자는 다시 뽑을 수 없습니다.)\n",
    "예를 들어 A = [1, 4, 2] , B = [5, 4, 4] 라면\n",
    "A에서 첫번째 숫자인 1, B에서 첫번째 숫자인 5를 뽑아 곱하여 더합니다. (누적된 값 : 0 + 5(1x5) = 5)\n",
    "A에서 두번째 숫자인 4, B에서 세번째 숫자인 4를 뽑아 곱하여 더합니다. (누적된 값 : 5 + 16(4x4) = 21)\n",
    "A에서 세번째 숫자인 2, B에서 두번째 숫자인 4를 뽑아 곱하여 더합니다. (누적된 값 : 21 + 8(2x4) = 29)\n",
    "즉, 이 경우가 최소가 되므로 29를 return 합니다.\n",
    "배열 A, B가 주어질 때 최종적으로 누적된 최솟값을 return 하는 solution 함수를 완성해 주세요.\n",
    "    * 배열 A, B의 크기 : 1,000 이하의 자연수\n",
    "    * 배열 A, B의 원소의 크기 : 1,000 이하의 자연수"
   ]
  },
  {
   "cell_type": "code",
   "execution_count": null,
   "metadata": {},
   "outputs": [],
   "source": [
    "#삽입 정렬\n",
    "def insertionSort(x):\n",
    "    for i in range(1, len(x)):\n",
    "        for j in range(i, 0, -1):\n",
    "            while(x[j] < x[j-1]):\n",
    "                x[j], x[j-1] = x[j-1], x[j]\n",
    "    return x\n",
    "\n",
    "def solution(A,B):\n",
    "    answer=0\n",
    "    A=insertionSort(A)\n",
    "    B=insertionSort(B)\n",
    "    B=B[::-1] #배열 반대로 출력\n",
    "\n",
    "    for i in range(len(A)):\n",
    "        answer+=A[i]*B[i]\n",
    "            \n",
    "    return answer"
   ]
  }
 ],
 "metadata": {
  "kernelspec": {
   "display_name": "Python 3.8.9 64-bit",
   "language": "python",
   "name": "python3"
  },
  "language_info": {
   "name": "python",
   "version": "3.8.9"
  },
  "orig_nbformat": 4,
  "vscode": {
   "interpreter": {
    "hash": "aee8b7b246df8f9039afb4144a1f6fd8d2ca17a180786b69acc140d282b71a49"
   }
  }
 },
 "nbformat": 4,
 "nbformat_minor": 2
}
